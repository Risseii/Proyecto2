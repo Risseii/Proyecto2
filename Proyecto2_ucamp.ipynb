{
  "nbformat": 4,
  "nbformat_minor": 0,
  "metadata": {
    "colab": {
      "provenance": []
    },
    "kernelspec": {
      "name": "python3",
      "display_name": "Python 3"
    },
    "language_info": {
      "name": "python"
    }
  },
  "cells": [
    {
      "cell_type": "code",
      "execution_count": 20,
      "metadata": {
        "colab": {
          "base_uri": "https://localhost:8080/"
        },
        "id": "GFzXoeUuIC6J",
        "outputId": "eb2a4cc2-0c5f-46f2-cae6-aee90060c7ec"
      },
      "outputs": [
        {
          "output_type": "stream",
          "name": "stdout",
          "text": [
            "Ingresa una palabra entre 4 y 8 letras: 43743\n",
            "Solo se permiten letras.\n",
            "Ingresa una palabra entre 4 y 8 letras: qw\n",
            "Hacen falta letras, solo tiene 2 letra(s).\n",
            "Ingresa una palabra entre 4 y 8 letras: qwertyyyyyyy\n",
            "Sobran letras, tiene 12 letra(s).\n",
            "Ingresa una palabra entre 4 y 8 letras: qwert\n",
            "La palabra es correcta.\n"
          ]
        }
      ],
      "source": [
        "#Longitud de una frase\n",
        "\n",
        "while True:\n",
        "    word = input(\"Ingresa una palabra entre 4 y 8 letras: \")\n",
        "    #Para que se acepte solo letras\n",
        "    if not word.isalpha():\n",
        "        print(\"Solo se permiten letras.\")\n",
        "    elif len(word) < 4:\n",
        "        print(f\"Hacen falta letras, solo tiene {len(word)} letra(s).\")\n",
        "    elif len(word) > 8:\n",
        "        print(f\"Sobran letras, tiene {len(word)} letra(s).\")\n",
        "    else:\n",
        "        print(\"La palabra es correcta.\")\n",
        "        break\n"
      ]
    },
    {
      "cell_type": "code",
      "source": [
        "#Encuentra el cuadrante\n",
        "x = float(input(\"Ingresar un número de la coordenada x \"))\n",
        "y = float(input(\"Ingresar un número de la coordenada y \"))\n",
        "\n",
        "#No se permite que ninguna de las coordenadas sea 0\n",
        "if x == 0 or y == 0:\n",
        "  print(\"Debe ingresar valores mayor a 0\")\n",
        "elif x > 0:\n",
        "  if y > 0:\n",
        "    print(\"Se encuentra en el cuadrante I\")\n",
        "  else: # y < 0\n",
        "    print(\"Se encuentra en el cuadrante IV\")\n",
        "else: # x < 0\n",
        "  if y > 0:\n",
        "    print(\"Se encuentra en el cuadrante II\")\n",
        "  else: # y < 0\n",
        "    print(\"Se encuentra en el cuadrante III\")\n"
      ],
      "metadata": {
        "colab": {
          "base_uri": "https://localhost:8080/"
        },
        "id": "GpQJzHWxTNuH",
        "outputId": "1d15fd8f-b26f-4de6-dc31-5a2ef1aade4b"
      },
      "execution_count": 37,
      "outputs": [
        {
          "output_type": "stream",
          "name": "stdout",
          "text": [
            "Ingresar un número de la coordenada x -5\n",
            "Ingresar un número de la coordenada y -6\n",
            "Se encuentra en el cuadrante III\n"
          ]
        }
      ]
    }
  ]
}